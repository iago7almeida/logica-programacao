{
 "cells": [
  {
   "cell_type": "code",
   "execution_count": null,
   "id": "a7e3ceaf-b2a8-4d4f-a95a-af4b87a736f5",
   "metadata": {},
   "outputs": [
    {
     "name": "stdout",
     "output_type": "stream",
     "text": [
      "Selecione a operação:\n",
      "1. Soma\n",
      "2. Subtração\n",
      "3. Multiplicação\n",
      "4. Divisão\n",
      "5. Sair\n"
     ]
    },
    {
     "name": "stdin",
     "output_type": "stream",
     "text": [
      "Digite sua opção:  8\n",
      "Digite o primeiro número:  9\n",
      "Digite o segundo número:  9\n"
     ]
    },
    {
     "name": "stdout",
     "output_type": "stream",
     "text": [
      "Opção inválida.\n",
      "Selecione a operação:\n",
      "1. Soma\n",
      "2. Subtração\n",
      "3. Multiplicação\n",
      "4. Divisão\n",
      "5. Sair\n"
     ]
    },
    {
     "name": "stdin",
     "output_type": "stream",
     "text": [
      "Digite sua opção:  4\n",
      "Digite o primeiro número:  2\n",
      "Digite o segundo número:  0\n"
     ]
    },
    {
     "name": "stdout",
     "output_type": "stream",
     "text": [
      "Divisão por zero não é permitida.\n"
     ]
    },
    {
     "name": "stdin",
     "output_type": "stream",
     "text": [
      "Digite o segundo número (diferente de zero):  7\n"
     ]
    },
    {
     "name": "stdout",
     "output_type": "stream",
     "text": [
      "Resultado: 0.2857142857142857\n",
      "Selecione a operação:\n",
      "1. Soma\n",
      "2. Subtração\n",
      "3. Multiplicação\n",
      "4. Divisão\n",
      "5. Sair\n"
     ]
    }
   ],
   "source": [
    "#Calculadora\n",
    "\n",
    "while True:\n",
    "    print(\"Informe a operação:\")\n",
    "    print(\"1. Soma\")\n",
    "    print(\"2. Subtração\")\n",
    "    print(\"3. Multiplicação\")\n",
    "    print(\"4. Divisão\")\n",
    "    print(\"5. Sair\")\n",
    "\n",
    "    opcao = input(\"Digite sua opção: \")\n",
    "\n",
    "    if opcao == '5':\n",
    "        break\n",
    "\n",
    "    num1 = float(input(\"Digite o primeiro número: \"))\n",
    "    num2 = float(input(\"Digite o segundo número: \"))\n",
    "\n",
    "    if opcao == '1':\n",
    "        resultado = num1 + num2\n",
    "        print(\"Resultado:\", resultado)\n",
    "    elif opcao == '2':\n",
    "        resultado = num1 - num2\n",
    "        print(\"Resultado:\", resultado)\n",
    "    elif opcao == '3':\n",
    "        resultado = num1 * num2\n",
    "        print(\"Resultado:\", resultado)\n",
    "    elif opcao == '4':\n",
    "        while num2 == 0:\n",
    "            print(\"Divisão por zero não é permitida.\")\n",
    "            num2 = float(input(\"Digite o segundo número (diferente de zero): \"))\n",
    "        resultado = num1 / num2\n",
    "        print(\"Resultado:\", resultado)\n",
    "    else:\n",
    "        print(\"Opção inválida.\")\n"
   ]
  },
  {
   "cell_type": "code",
   "execution_count": null,
   "id": "ce9f8776-6c5c-4c99-a5cf-f3b31e13217d",
   "metadata": {},
   "outputs": [],
   "source": []
  }
 ],
 "metadata": {
  "kernelspec": {
   "display_name": "Python 3 (ipykernel)",
   "language": "python",
   "name": "python3"
  },
  "language_info": {
   "codemirror_mode": {
    "name": "ipython",
    "version": 3
   },
   "file_extension": ".py",
   "mimetype": "text/x-python",
   "name": "python",
   "nbconvert_exporter": "python",
   "pygments_lexer": "ipython3",
   "version": "3.12.7"
  }
 },
 "nbformat": 4,
 "nbformat_minor": 5
}
